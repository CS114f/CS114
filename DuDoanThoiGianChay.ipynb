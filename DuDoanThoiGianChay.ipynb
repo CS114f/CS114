{
  "nbformat": 4,
  "nbformat_minor": 0,
  "metadata": {
    "colab": {
      "name": "DuDoanThoiGianChay.ipynb",
      "provenance": [],
      "collapsed_sections": []
    },
    "kernelspec": {
      "name": "python3",
      "display_name": "Python 3"
    },
    "language_info": {
      "name": "python"
    }
  },
  "cells": [
    {
      "cell_type": "code",
      "metadata": {
        "id": "ebQsbPVt8CPr"
      },
      "source": [
        "import pandas as pd\n",
        "import numpy as np\n",
        "from sklearn.linear_model import LinearRegression\n"
      ],
      "execution_count": 37,
      "outputs": []
    },
    {
      "cell_type": "code",
      "metadata": {
        "id": "pUeHje3exu7m"
      },
      "source": [
        "#Đọc dữ liệu train\n",
        "Data = pd.read_csv('/content/drive/MyDrive/Data2.csv')\n",
        "x = np.array(Data['X']).reshape(-1,1)\n",
        "y = np.array(Data['Y']).reshape(-1,1)"
      ],
      "execution_count": 35,
      "outputs": []
    },
    {
      "cell_type": "code",
      "metadata": {
        "id": "t6AtUwKv8gjB"
      },
      "source": [
        "#Đọc dữ liệu test\n",
        "Datatest = pd.read_csv('/content/drive/MyDrive/Data3.csv')\n",
        "Datatest.columns = ['X','Y']\n",
        "Xtest = np.array(Datatest['X']).reshape(-1,1)\n",
        "Ytest = np.array(Datatest['Y']).reshape(-1,1)\n"
      ],
      "execution_count": 36,
      "outputs": []
    },
    {
      "cell_type": "code",
      "metadata": {
        "id": "X9Z2dVPY7jQS"
      },
      "source": [
        "# training va predict\n",
        "lin = LinearRegression().fit(x,y)\n",
        "pre = lin.predict(Xtest)"
      ],
      "execution_count": 38,
      "outputs": []
    },
    {
      "cell_type": "code",
      "metadata": {
        "colab": {
          "base_uri": "https://localhost:8080/"
        },
        "id": "vbNTlO4M72po",
        "outputId": "403b91dd-259e-4516-82d1-066b542dd3ae"
      },
      "source": [
        "#MSE\n",
        "from sklearn.metrics import mean_squared_error\n",
        "print((mean_squared_error(Ytest,pre)))"
      ],
      "execution_count": 30,
      "outputs": [
        {
          "output_type": "stream",
          "text": [
            "0.0033584231613605765\n"
          ],
          "name": "stdout"
        }
      ]
    }
  ]
}